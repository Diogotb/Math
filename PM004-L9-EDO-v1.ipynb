{
 "cells": [
  {
   "cell_type": "code",
   "execution_count": 1,
   "metadata": {},
   "outputs": [],
   "source": [
    "import numpy as np\n",
    "from numpy import linalg\n",
    "import matplotlib.pyplot as plt\n",
    "import math\n",
    "from math import e\n",
    "import sympy\n",
    "from sympy import *\n",
    "x, y, t = symbols('x y t')"
   ]
  },
  {
   "cell_type": "code",
   "execution_count": 2,
   "metadata": {},
   "outputs": [
    {
     "name": "stdout",
     "output_type": "stream",
     "text": [
      "y(0.050000) = 0.000000\n",
      "y(0.100000) = 0.002905\n"
     ]
    }
   ],
   "source": [
    "#EDO métodos numéricos\n",
    "# Métodos de Euler\n",
    "# entrada de dados\n",
    "def f(t,y):\n",
    "    return t*e**(3*t) -2*y\n",
    "\n",
    "t0= 0\n",
    "y0= 0\n",
    "tf= 0.1\n",
    "h = 0.05\n",
    "\n",
    "# iterações\n",
    "t = t0\n",
    "while t < tf:\n",
    "    y = y0 + h*f(t,y0)\n",
    "    t += h\n",
    "    y0 = y\n",
    "    print('y(%f) = %f' %(t,y))\n",
    "    \n"
   ]
  },
  {
   "cell_type": "code",
   "execution_count": 3,
   "metadata": {},
   "outputs": [
    {
     "name": "stdout",
     "output_type": "stream",
     "text": [
      "y(0.025000) = 0.000000\n",
      "y(0.050000) = 0.000674\n",
      "y(0.075000) = 0.002092\n",
      "y(0.100000) = 0.004336\n"
     ]
    }
   ],
   "source": [
    "#EDO métodos numéricos\n",
    "# Métodos de Euler\n",
    "# entrada de dados\n",
    "def f(t,y):\n",
    "    return t*e**(3*t) -2*y\n",
    "\n",
    "t0= 0\n",
    "y0= 0\n",
    "tf= 0.1\n",
    "h = 0.025\n",
    "\n",
    "# iterações\n",
    "t = t0\n",
    "while t < tf:\n",
    "    y = y0 + h*f(t,y0)\n",
    "    t += h\n",
    "    y0 = y\n",
    "    print('y(%f) = %f' %(t,y))\n",
    "    "
   ]
  },
  {
   "cell_type": "code",
   "execution_count": 10,
   "metadata": {
    "scrolled": true
   },
   "outputs": [
    {
     "name": "stdout",
     "output_type": "stream",
     "text": [
      "k1:  0.0\n",
      "k2:  0.058091712136414154\n",
      "y(0.050000) = 0.001452\n",
      "k1:  0.05518712652959345\n",
      "k2:  0.12656258249782026\n",
      "y(0.100000) = 0.005996\n"
     ]
    }
   ],
   "source": [
    "#EDO métodos numéricos\n",
    "# Métodos de Euler Aperfeiçoado\n",
    "# entrada de dados\n",
    "def f(t,y):\n",
    "    return t*e**(3*t) -2*y\n",
    "\n",
    "t0= 0\n",
    "y0= 0\n",
    "tf= 0.1\n",
    "h = 0.05\n",
    "\n",
    "# iterações\n",
    "t = t0\n",
    "y = y0\n",
    "while t < tf:\n",
    "    k1 = f(t,y)\n",
    "    print('k1: ',k1)\n",
    "    k2 = f(t+h, y + h*k1)\n",
    "    print('k2: ',k2)\n",
    "    y = y0 + (h/2)*(k1 + k2)\n",
    "    t += h\n",
    "    y0 = y\n",
    "    print('y(%f) = %f' %(t,y))"
   ]
  },
  {
   "cell_type": "code",
   "execution_count": 8,
   "metadata": {},
   "outputs": [
    {
     "name": "stdout",
     "output_type": "stream",
     "text": [
      "k1:  0.0\n",
      "k2:  0.026947103772115788\n",
      "y(0.025000) = 0.000337\n",
      "k1:  0.026273426177812892\n",
      "k2:  0.056104363233220614\n",
      "y(0.050000) = 0.001367\n",
      "k1:  0.055358589806835425\n",
      "k2:  0.08842315189446935\n",
      "y(0.075000) = 0.003164\n",
      "k1:  0.0875965378422785\n",
      "k2:  0.12427838799337504\n",
      "y(0.100000) = 0.005812\n"
     ]
    }
   ],
   "source": [
    "#EDO métodos numéricos\n",
    "# Métodos de Euler Aperfeiçoado\n",
    "# entrada de dados\n",
    "def f(t,y):\n",
    "    return t*e**(3*t) -2*y\n",
    "\n",
    "t0= 0\n",
    "y0= 0\n",
    "tf= 0.1\n",
    "h = 0.025\n",
    "\n",
    "# iterações\n",
    "t = t0\n",
    "while t < tf:\n",
    "    k1 = f(t,y0)\n",
    "    print('k1: ',k1)\n",
    "    k2 = f(t+h, y0 + h*k1)\n",
    "    print('k2: ',k2)\n",
    "    y = y0 + (h/2)*(k1 + k2)\n",
    "    t += h\n",
    "    y0 = y\n",
    "    print('y(%f) = %f' %(t,y))"
   ]
  },
  {
   "cell_type": "code",
   "execution_count": 11,
   "metadata": {
    "scrolled": true
   },
   "outputs": [
    {
     "name": "stdout",
     "output_type": "stream",
     "text": [
      "0.0\n",
      "1.0\n",
      "y(0.050000) = 0.001250\n",
      "0.05559171213641415\n",
      "1.2249259548646971\n",
      "y(0.100000) = 0.005561\n"
     ]
    }
   ],
   "source": [
    "#EDO métodos numéricos\n",
    "# Métodos de Taylor 2º ordem\n",
    "# entrada de dados\n",
    "def f(t,y):\n",
    "    return t*e**(3*t) -2*y\n",
    "def f2(t,y):\n",
    "    return t*(e**(3*t)) +e**(3*t) +4*y\n",
    "t0= 0\n",
    "y0= 0\n",
    "tf= 0.1\n",
    "h = 0.05\n",
    "\n",
    "#iterações\n",
    "t = t0\n",
    "y = y0\n",
    "while t < tf:\n",
    "    print(f(t,y0))\n",
    "    print(f2(t,y0))\n",
    "    y = y0 + h*f(t,y0) + ((h**2)/2)*f2(t,y0)\n",
    "    t += h\n",
    "    y0 = y\n",
    "    print('y(%f) = %f' %(t,y))"
   ]
  },
  {
   "cell_type": "code",
   "execution_count": 13,
   "metadata": {},
   "outputs": [
    {
     "name": "stdout",
     "output_type": "stream",
     "text": [
      "0.0\n",
      "1.0\n",
      "y(0.025000) = 0.000313\n",
      "0.026322103772115787\n",
      "1.1060812546567473\n",
      "y(0.050000) = 0.001316\n",
      "0.0554593061636479\n",
      "1.2251907668102298\n",
      "y(0.075000) = 0.003086\n",
      "0.0877530882041848\n",
      "1.3585891509266643\n",
      "y(0.100000) = 0.005704\n"
     ]
    }
   ],
   "source": [
    "#EDO métodos numéricos\n",
    "# Métodos de Taylor 2º ordem\n",
    "# entrada de dados\n",
    "def f(t,y):\n",
    "    return t*e**(3*t) -2*y\n",
    "def f2(t,y):\n",
    "    return t*(e**(3*t)) +e**(3*t) +4*y\n",
    "\n",
    "t0= 0\n",
    "y0= 0\n",
    "tf= 0.1\n",
    "h = 0.025\n",
    "\n",
    "#iterações\n",
    "t = t0\n",
    "y = y0\n",
    "while t < tf:\n",
    "    print(f(t,y0))\n",
    "    print(f2(t,y0))\n",
    "    y = y0 + h*f(t,y0) + ((h**2)/2)*f2(t,y0)\n",
    "    t += h\n",
    "    y0 = y\n",
    "    print('y(%f) = %f' %(t,y))"
   ]
  },
  {
   "cell_type": "code",
   "execution_count": 2,
   "metadata": {},
   "outputs": [
    {
     "name": "stdout",
     "output_type": "stream",
     "text": [
      "k1:  0.0\n",
      "k2:  0.026947103772115788\n",
      "k3:  0.02559974858351\n",
      "k4:  0.025667116342940288\n",
      "y(0.050000) = 0.001090\n",
      "k1:  0.05591236511884429\n",
      "k2:  0.08894923844087776\n",
      "k3:  0.0872973947747761\n",
      "k4:  0.08737998695808118\n",
      "y(0.100000) = 0.005221\n"
     ]
    }
   ],
   "source": [
    "#EDO métodos numéricos\n",
    "# Métodos de runge-kutta 4\n",
    "# entrada de dados\n",
    "def f(t,y):\n",
    "    return t*e**(3*t) -2*y\n",
    "\n",
    "t0= 0\n",
    "y0= 0\n",
    "tf= 0.1\n",
    "h = 0.05\n",
    "\n",
    "# iterações\n",
    "t = t0\n",
    "y = y0\n",
    "while t < tf:\n",
    "    k1 = f(t,y)\n",
    "    print('k1: ',k1)\n",
    "    k2 = f(t+h/2, y + 0.5*h*k1)\n",
    "    print('k2: ',k2)\n",
    "    k3 = f(t+h/2, y + 0.5*h*k2)\n",
    "    print('k3: ',k3)\n",
    "    k4 = f(t+h/2, y + 0.5*h*k3)\n",
    "    print('k4: ',k4)\n",
    "    y = y0 + (h/6)*(k1 + 2*k2 +2*k3 +k4)\n",
    "    t += h\n",
    "    y0 = y\n",
    "    print('y(%f) = %f' %(t,y))"
   ]
  },
  {
   "cell_type": "code",
   "execution_count": 3,
   "metadata": {},
   "outputs": [
    {
     "name": "stdout",
     "output_type": "stream",
     "text": [
      "k1:  0.0\n",
      "k2:  0.012977649963522814\n",
      "k3:  0.012653208714434745\n",
      "k4:  0.012661319745661946\n",
      "y(0.025000) = 0.000266\n",
      "k1:  0.026414411796269313\n",
      "k2:  0.04077215736347607\n",
      "k3:  0.040413213724295904\n",
      "k4:  0.04042218731527541\n",
      "y(0.050000) = 0.001221\n",
      "k1:  0.055648958983175276\n",
      "k2:  0.07155541346099303\n",
      "k3:  0.07115775209904758\n",
      "k4:  0.07116769363309622\n",
      "y(0.075000) = 0.002939\n",
      "k1:  0.08804609236334802\n",
      "k2:  0.10568617730461745\n",
      "k3:  0.10524517518108573\n",
      "k4:  0.10525620023417401\n",
      "y(0.100000) = 0.005502\n"
     ]
    }
   ],
   "source": [
    "#EDO métodos numéricos\n",
    "# Métodos de runge-kutta 4\n",
    "# entrada de dados\n",
    "def f(t,y):\n",
    "    return t*e**(3*t) -2*y\n",
    "\n",
    "t0= 0\n",
    "y0= 0\n",
    "tf= 0.1\n",
    "h = 0.025\n",
    "\n",
    "# iterações\n",
    "t = t0\n",
    "y = y0\n",
    "while t < tf:\n",
    "    k1 = f(t,y)\n",
    "    print('k1: ',k1)\n",
    "    k2 = f(t+h/2, y + 0.5*h*k1)\n",
    "    print('k2: ',k2)\n",
    "    k3 = f(t+h/2, y + 0.5*h*k2)\n",
    "    print('k3: ',k3)\n",
    "    k4 = f(t+h/2, y + 0.5*h*k3)\n",
    "    print('k4: ',k4)\n",
    "    y = y0 + (h/6)*(k1 + 2*k2 +2*k3 +k4)\n",
    "    t += h\n",
    "    y0 = y\n",
    "    print('y(%f) = %f' %(t,y))"
   ]
  },
  {
   "cell_type": "code",
   "execution_count": null,
   "metadata": {},
   "outputs": [],
   "source": []
  }
 ],
 "metadata": {
  "kernelspec": {
   "display_name": "Python 3",
   "language": "python",
   "name": "python3"
  },
  "language_info": {
   "codemirror_mode": {
    "name": "ipython",
    "version": 3
   },
   "file_extension": ".py",
   "mimetype": "text/x-python",
   "name": "python",
   "nbconvert_exporter": "python",
   "pygments_lexer": "ipython3",
   "version": "3.8.3"
  }
 },
 "nbformat": 4,
 "nbformat_minor": 4
}
