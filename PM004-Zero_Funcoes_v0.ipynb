{
 "cells": [
  {
   "cell_type": "code",
   "execution_count": 1,
   "metadata": {},
   "outputs": [],
   "source": [
    "import numpy as np\n",
    "import sys\n",
    "from math import log\n",
    "from sympy import *\n",
    "x, y, z = symbols('x y z')"
   ]
  },
  {
   "cell_type": "code",
   "execution_count": 2,
   "metadata": {},
   "outputs": [
    {
     "ename": "KeyboardInterrupt",
     "evalue": "Interrupted by user",
     "output_type": "error",
     "traceback": [
      "\u001b[1;31m---------------------------------------------------------------------------\u001b[0m",
      "\u001b[1;31mKeyboardInterrupt\u001b[0m                         Traceback (most recent call last)",
      "\u001b[1;32m<ipython-input-2-bf839ba81d16>\u001b[0m in \u001b[0;36m<module>\u001b[1;34m\u001b[0m\n\u001b[0;32m      1\u001b[0m \u001b[1;31m# bissecção\u001b[0m\u001b[1;33m\u001b[0m\u001b[1;33m\u001b[0m\u001b[1;33m\u001b[0m\u001b[0m\n\u001b[1;32m----> 2\u001b[1;33m \u001b[0mf\u001b[0m \u001b[1;33m=\u001b[0m \u001b[0minput\u001b[0m\u001b[1;33m(\u001b[0m\u001b[1;34m'Função f(x):'\u001b[0m\u001b[1;33m)\u001b[0m\u001b[1;33m\u001b[0m\u001b[1;33m\u001b[0m\u001b[0m\n\u001b[0m\u001b[0;32m      3\u001b[0m \u001b[0ma\u001b[0m \u001b[1;33m=\u001b[0m \u001b[0mfloat\u001b[0m\u001b[1;33m(\u001b[0m\u001b[0minput\u001b[0m\u001b[1;33m(\u001b[0m\u001b[1;34m'Limite inferior: '\u001b[0m\u001b[1;33m)\u001b[0m\u001b[1;33m)\u001b[0m\u001b[1;33m\u001b[0m\u001b[1;33m\u001b[0m\u001b[0m\n\u001b[0;32m      4\u001b[0m \u001b[0mb\u001b[0m \u001b[1;33m=\u001b[0m \u001b[0mfloat\u001b[0m\u001b[1;33m(\u001b[0m\u001b[0minput\u001b[0m\u001b[1;33m(\u001b[0m\u001b[1;34m'Limite Superior: '\u001b[0m\u001b[1;33m)\u001b[0m\u001b[1;33m)\u001b[0m\u001b[1;33m\u001b[0m\u001b[1;33m\u001b[0m\u001b[0m\n\u001b[0;32m      5\u001b[0m \u001b[0mtol\u001b[0m \u001b[1;33m=\u001b[0m \u001b[0mfloat\u001b[0m\u001b[1;33m(\u001b[0m\u001b[0minput\u001b[0m\u001b[1;33m(\u001b[0m\u001b[1;34m'Tolerancia do erro: '\u001b[0m\u001b[1;33m)\u001b[0m\u001b[1;33m)\u001b[0m\u001b[1;33m\u001b[0m\u001b[1;33m\u001b[0m\u001b[0m\n",
      "\u001b[1;32mC:\\ProgramData\\Anaconda3\\lib\\site-packages\\ipykernel\\kernelbase.py\u001b[0m in \u001b[0;36mraw_input\u001b[1;34m(self, prompt)\u001b[0m\n\u001b[0;32m    858\u001b[0m                 \u001b[1;34m\"raw_input was called, but this frontend does not support input requests.\"\u001b[0m\u001b[1;33m\u001b[0m\u001b[1;33m\u001b[0m\u001b[0m\n\u001b[0;32m    859\u001b[0m             )\n\u001b[1;32m--> 860\u001b[1;33m         return self._input_request(str(prompt),\n\u001b[0m\u001b[0;32m    861\u001b[0m             \u001b[0mself\u001b[0m\u001b[1;33m.\u001b[0m\u001b[0m_parent_ident\u001b[0m\u001b[1;33m,\u001b[0m\u001b[1;33m\u001b[0m\u001b[1;33m\u001b[0m\u001b[0m\n\u001b[0;32m    862\u001b[0m             \u001b[0mself\u001b[0m\u001b[1;33m.\u001b[0m\u001b[0m_parent_header\u001b[0m\u001b[1;33m,\u001b[0m\u001b[1;33m\u001b[0m\u001b[1;33m\u001b[0m\u001b[0m\n",
      "\u001b[1;32mC:\\ProgramData\\Anaconda3\\lib\\site-packages\\ipykernel\\kernelbase.py\u001b[0m in \u001b[0;36m_input_request\u001b[1;34m(self, prompt, ident, parent, password)\u001b[0m\n\u001b[0;32m    902\u001b[0m             \u001b[1;32mexcept\u001b[0m \u001b[0mKeyboardInterrupt\u001b[0m\u001b[1;33m:\u001b[0m\u001b[1;33m\u001b[0m\u001b[1;33m\u001b[0m\u001b[0m\n\u001b[0;32m    903\u001b[0m                 \u001b[1;31m# re-raise KeyboardInterrupt, to truncate traceback\u001b[0m\u001b[1;33m\u001b[0m\u001b[1;33m\u001b[0m\u001b[1;33m\u001b[0m\u001b[0m\n\u001b[1;32m--> 904\u001b[1;33m                 \u001b[1;32mraise\u001b[0m \u001b[0mKeyboardInterrupt\u001b[0m\u001b[1;33m(\u001b[0m\u001b[1;34m\"Interrupted by user\"\u001b[0m\u001b[1;33m)\u001b[0m \u001b[1;32mfrom\u001b[0m \u001b[1;32mNone\u001b[0m\u001b[1;33m\u001b[0m\u001b[1;33m\u001b[0m\u001b[0m\n\u001b[0m\u001b[0;32m    905\u001b[0m             \u001b[1;32mexcept\u001b[0m \u001b[0mException\u001b[0m \u001b[1;32mas\u001b[0m \u001b[0me\u001b[0m\u001b[1;33m:\u001b[0m\u001b[1;33m\u001b[0m\u001b[1;33m\u001b[0m\u001b[0m\n\u001b[0;32m    906\u001b[0m                 \u001b[0mself\u001b[0m\u001b[1;33m.\u001b[0m\u001b[0mlog\u001b[0m\u001b[1;33m.\u001b[0m\u001b[0mwarning\u001b[0m\u001b[1;33m(\u001b[0m\u001b[1;34m\"Invalid Message:\"\u001b[0m\u001b[1;33m,\u001b[0m \u001b[0mexc_info\u001b[0m\u001b[1;33m=\u001b[0m\u001b[1;32mTrue\u001b[0m\u001b[1;33m)\u001b[0m\u001b[1;33m\u001b[0m\u001b[1;33m\u001b[0m\u001b[0m\n",
      "\u001b[1;31mKeyboardInterrupt\u001b[0m: Interrupted by user"
     ]
    }
   ],
   "source": [
    "# bissecção\n",
    "f = input('Função f(x):')\n",
    "a = float(input('Limite inferior: '))\n",
    "b = float(input('Limite Superior: '))\n",
    "tol = float(input('Tolerancia do erro: '))\n",
    "x=a\n",
    "fa0 = eval(f)\n",
    "x=b\n",
    "fb0 = eval(f)\n",
    "if fa0*fb0<0:\n",
    "    print('existe uma raiz para o intervalo')\n",
    "else:\n",
    "    sys.exit('Escolha Novo Intervalo')\n",
    "it=float((log(b-a)-log(tol))/log(2))\n",
    "print('iterações>',it)\n",
    "print('i / a / b / b-a\\n',0,a,b,b-a)\n",
    "for i in range(n):\n",
    "    x=a\n",
    "    fa = eval(f)\n",
    "    x=b\n",
    "    fb = eval(f)\n",
    "    x=(a+b)/2\n",
    "    np = eval(f)\n",
    "    if abs(b-a) < tol:\n",
    "        sys.exit('Criterio de Parada Atingido')\n",
    "    elif np*fa > 0:\n",
    "        a = x\n",
    "    else:\n",
    "        b = x;   \n",
    "    print('i / a / b / b-a\\n',i+1,a,b,b-a)"
   ]
  },
  {
   "cell_type": "code",
   "execution_count": null,
   "metadata": {},
   "outputs": [],
   "source": [
    "# Falsa Posição\n",
    "f = input('Função f(x):')\n",
    "a = float(input('Limite inferior: '))\n",
    "b = float(input('Limite Superior: '))\n",
    "tol = float(input('Tolerancia do erro: '))\n",
    "x=a\n",
    "fa0 = eval(f)\n",
    "x=b\n",
    "fb0 = eval(f)\n",
    "if fa0*fb0<0:\n",
    "    print('existe uma raiz para o intervalo')\n",
    "else:\n",
    "    sys.exit('Escolha Novo Intervalo')\n",
    "print('i / a / b / b-a\\n',0,a,b,b-a)\n",
    "for i in range(n):\n",
    "    x=a\n",
    "    fa = eval(f)\n",
    "    x=b\n",
    "    fb = eval(f)\n",
    "    x=(a*fb-b*fa)/(fb-fa)\n",
    "    np = eval(f)\n",
    "    if abs(b-a) < tol:\n",
    "        sys.exit('Criterio de Parada Atingido')\n",
    "    elif np*fa > 0:\n",
    "        a = x\n",
    "    else:\n",
    "        b = x;   \n",
    "    print('i / a / b / b-a\\n',i+1,a,b,b-a)"
   ]
  },
  {
   "cell_type": "code",
   "execution_count": null,
   "metadata": {},
   "outputs": [],
   "source": [
    "# Ponto Fixo\n",
    "f = input('Função f(x):')\n",
    "fi = input('Função phi(x)')\n",
    "x = float(input('Ponto Inicial: '))\n",
    "n=100\n",
    "tol = float(input('Tolerancia do erro: '))\n",
    "for i in range(n):\n",
    "    np = eval(fi)\n",
    "    print('i / x / np / np-x\\n',i+1,x,np,abs(np-x))\n",
    "    if abs(np-x) < tol:\n",
    "        sys.exit('Criterio de Parada Atingido')\n",
    "    else:\n",
    "        x = np;   \n",
    "    "
   ]
  },
  {
   "cell_type": "code",
   "execution_count": 13,
   "metadata": {
    "scrolled": false
   },
   "outputs": [
    {
     "name": "stdout",
     "output_type": "stream",
     "text": [
      "Função f(x):x**3 -6*x +2\n",
      "diff:  3*x**2 - 6\n",
      "Ponto Inicial: 0.5\n",
      "Tolerancia do erro: 1e-5\n",
      "df(x):  -5.25\n",
      "f(x):  -0.875\n",
      "i / x / np / np-x\n",
      " 1 0.5 0.33333333333333337 -0.16666666666666663\n",
      "df(x):  -5.666666666666667\n",
      "f(x):  0.03703703703703698\n",
      "i / x / np / np-x\n",
      " 2 0.33333333333333337 0.33986928104575165 0.006535947712418277\n",
      "df(x):  -5.653466615404332\n",
      "f(x):  4.299781911720757e-05\n",
      "i / x / np / np-x\n",
      " 3 0.33986928104575165 0.3398768866127501 7.605566998469815e-06\n"
     ]
    },
    {
     "ename": "SystemExit",
     "evalue": "Criterio de Parada Atingido",
     "output_type": "error",
     "traceback": [
      "An exception has occurred, use %tb to see the full traceback.\n",
      "\u001b[1;31mSystemExit\u001b[0m\u001b[1;31m:\u001b[0m Criterio de Parada Atingido\n"
     ]
    }
   ],
   "source": [
    "# Newton Raphson\n",
    "f = input('Função f(x):')\n",
    "df = str(diff(f))\n",
    "print('diff: ',df)\n",
    "x = float(input('Ponto Inicial: '))\n",
    "tol = float(input('Tolerancia do erro: '))\n",
    "n=100\n",
    "for i in range(n):\n",
    "    dfx = eval(df)\n",
    "    print('df(x): ',dfx)\n",
    "    fx = eval(f)\n",
    "    print('f(x): ',fx)\n",
    "    if dfx == 0:\n",
    "        sys.exit('diff = 0')\n",
    "    if dfx == fx:\n",
    "        sys.exit('diff=f')   \n",
    "    np = x-fx/dfx\n",
    "    print('i / x / np / np-x\\n',i+1,x,np,np-x)\n",
    "    if abs(np-x) < tol:\n",
    "        sys.exit('Criterio de Parada Atingido')\n",
    "    else:\n",
    "        x = np;   \n",
    "    "
   ]
  },
  {
   "cell_type": "code",
   "execution_count": 14,
   "metadata": {},
   "outputs": [
    {
     "name": "stdout",
     "output_type": "stream",
     "text": [
      "Função f(x):log(x)+x-2\n",
      "Limite inferior: 1.1\n",
      "Limite Superior: 1.2\n",
      "Tolerancia do erro: 0.0001\n",
      "i / x / np / np-x\n",
      " 2 1.2 1.53028923328034 0.330289233280335\n",
      "i / x / np / np-x\n",
      " 3 1.53028923328034 1.55577929162292 0.0254900583425799\n",
      "i / x / np / np-x\n",
      " 4 1.55577929162292 1.55714095158724 0.00136165996432069\n",
      "i / x / np / np-x\n",
      " 5 1.55714095158724 1.55714559819994 4.64661270238587e-6\n"
     ]
    },
    {
     "ename": "SystemExit",
     "evalue": "Criterio de Parada Atingido",
     "output_type": "error",
     "traceback": [
      "An exception has occurred, use %tb to see the full traceback.\n",
      "\u001b[1;31mSystemExit\u001b[0m\u001b[1;31m:\u001b[0m Criterio de Parada Atingido\n"
     ]
    }
   ],
   "source": [
    "# Secante\n",
    "f = input('Função f(x):')\n",
    "a = float(input('Limite inferior: '))\n",
    "b = float(input('Limite Superior: '))\n",
    "tol = float(input('Tolerancia do erro: '))\n",
    "n=100\n",
    "for i in range(n):\n",
    "    x=a\n",
    "    fa = eval(f)\n",
    "    x=b\n",
    "    fb = eval(f)\n",
    "    np = (a*fb-b*fa)/(fb-fa)\n",
    "    print('i / x / np / np-x\\n',i+2,x,np,np-x)\n",
    "    if abs(np-b) < tol:\n",
    "        sys.exit('Criterio de Parada Atingido')\n",
    "    else:\n",
    "        a = b\n",
    "        b = np\n",
    "    "
   ]
  },
  {
   "cell_type": "code",
   "execution_count": null,
   "metadata": {},
   "outputs": [],
   "source": []
  }
 ],
 "metadata": {
  "kernelspec": {
   "display_name": "Python 3",
   "language": "python",
   "name": "python3"
  },
  "language_info": {
   "codemirror_mode": {
    "name": "ipython",
    "version": 3
   },
   "file_extension": ".py",
   "mimetype": "text/x-python",
   "name": "python",
   "nbconvert_exporter": "python",
   "pygments_lexer": "ipython3",
   "version": "3.8.3"
  }
 },
 "nbformat": 4,
 "nbformat_minor": 4
}
