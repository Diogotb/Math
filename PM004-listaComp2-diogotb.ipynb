{
 "cells": [
  {
   "cell_type": "markdown",
   "metadata": {},
   "source": [
    "Q1 - Altere o codigo de Gauss-Seidel, apresentado em video, adicionando ao codigo o criterio de Sassenfeld. O codigo deve ser parado caso este criterio nao seja satisfeito e imprimir uma mensagem na janela de comandos. Coloque dois exemplos de sistemas, um exibindo a solucao pelo metodo e outro em que o criterio de Sassenfeld nao sendo satisfeito, portanto o codigo exibira um de erro."
   ]
  },
  {
   "cell_type": "code",
   "execution_count": 1,
   "metadata": {},
   "outputs": [],
   "source": [
    "import numpy as np\n",
    "from numpy import linalg\n",
    "import sys\n",
    "import matplotlib.pyplot as plt\n",
    "import math\n",
    "from math import e\n",
    "from sympy import *\n"
   ]
  },
  {
   "cell_type": "code",
   "execution_count": 2,
   "metadata": {
    "scrolled": false
   },
   "outputs": [
    {
     "name": "stdout",
     "output_type": "stream",
     "text": [
      "det A:  283.99999999999983\n",
      "beta:  [ 0.5        -0.14285714  0.18571429]\n",
      "X0:  [0.375      0.28571429 0.2       ]\n",
      "X1=  [ 0.24285714  0.23265306 -0.13183673]\n",
      "erro:  0.33183673469387753\n",
      "errorel:  1.3663865546218488\n",
      "X2=  [ 0.30423469  0.05536443 -0.02683236]\n",
      "erro:  0.1772886297376093\n",
      "errorel:  0.5827363982654943\n",
      "X3=  [ 0.35759238  0.0698762  -0.07045639]\n",
      "erro:  0.053357689504373196\n",
      "errorel:  0.1492137192625405\n",
      "X4=  [ 0.35760347  0.05117385 -0.05550116]\n",
      "erro:  0.018702349095614912\n",
      "errorel:  0.05229912579473543\n",
      "X5=  [ 0.36274745  0.05464381 -0.06136352]\n",
      "erro:  0.005862359562594531\n",
      "errorel:  0.016160994448026305\n",
      "X6=  [ 0.36217901  0.0524562  -0.05927237]\n",
      "erro:  0.0021876156215288947\n",
      "errorel:  0.006040150205719712\n",
      "X7=  [ 0.36273797  0.053033   -0.06006919]\n",
      "erro:  0.0007968200107906775\n",
      "errorel:  0.0021966821075063096\n",
      "Criterio de Parada Atingido\n"
     ]
    },
    {
     "ename": "SystemExit",
     "evalue": "0",
     "output_type": "error",
     "traceback": [
      "An exception has occurred, use %tb to see the full traceback.\n",
      "\u001b[1;31mSystemExit\u001b[0m\u001b[1;31m:\u001b[0m 0\n"
     ]
    },
    {
     "name": "stderr",
     "output_type": "stream",
     "text": [
      "C:\\ProgramData\\Anaconda3\\lib\\site-packages\\IPython\\core\\interactiveshell.py:3351: UserWarning: To exit: use 'exit', 'quit', or Ctrl-D.\n",
      "  warn(\"To exit: use 'exit', 'quit', or Ctrl-D.\", stacklevel=1)\n"
     ]
    }
   ],
   "source": [
    "#gauss_seidel- com criterio de sassenfeld\n",
    "\n",
    "A = np.array([[8, 3, 1], [4, 7, -3], [3, 4, 5]])\n",
    "B = [3, 2, 1]\n",
    "N = 100\n",
    "tol = 0.001 # Critério de Parada 'tolerância do erro'\n",
    "ordem = len(B) \n",
    "if np.linalg.det(A) ==0:\n",
    "    sys.exit('DET =0, Matriz Singular ou possui Equações Linearmente Dependentes')    \n",
    "print('det A: ', np.linalg.det(A))\n",
    "\n",
    "#criterio de sassenfeld\n",
    "beta=np.zeros(ordem)\n",
    "for i in range(ordem):\n",
    "    beta[i]= 0\n",
    "    beta[i] = sum(A[i])-A[i][i]\n",
    "    j=0\n",
    "    while j < i:\n",
    "        beta[i] -= A[i][j]\n",
    "        beta[i] += A[i][j]*beta[j]\n",
    "        j += 1\n",
    "    beta[i] /= A[i][i]\n",
    "print('beta: ',beta)\n",
    "if max(beta)>1:\n",
    "    sys.exit('Nao atende o critério de sassenfeld')\n",
    "\n",
    "# Vetor Inicial\n",
    "X=np.zeros(ordem)\n",
    "for i in range(ordem):\n",
    "    X[i]=B[i]/A[i,i]\n",
    "print('X0: ',X)\n",
    "\n",
    "it = 0 \n",
    "\n",
    "#iteracoes\n",
    "XX=np.zeros(ordem)\n",
    "while it<100:\n",
    "    it +=1\n",
    "    for i in range(ordem):\n",
    "        XX[i] = X[i]\n",
    "        X[i] = B[i]\n",
    "        for j in range(ordem):\n",
    "            if i != j:\n",
    "                X[i] -=A[i,j]*X[j]\n",
    "        X[i] /= A[i,i]\n",
    "    print('X'+str(it)+'= ',X)\n",
    "    erro = np.linalg.norm(X-XX,np.inf)\n",
    "    errorel = np.linalg.norm(X-XX,np.inf)/abs(max(X))\n",
    "    print('erro: ',erro)\n",
    "    print('errorel: ',errorel)\n",
    "    if erro<tol or errorel<tol:\n",
    "        print('Criterio de Parada Atingido')\n",
    "        sys.exit(0)"
   ]
  },
  {
   "cell_type": "code",
   "execution_count": 3,
   "metadata": {},
   "outputs": [
    {
     "name": "stdout",
     "output_type": "stream",
     "text": [
      "det A:  -283.99999999999983\n",
      "beta:  [ 3.          1.28571429 27.85714286]\n",
      "Nao atende o critério de sassenfeld\n"
     ]
    },
    {
     "ename": "SystemExit",
     "evalue": "0",
     "output_type": "error",
     "traceback": [
      "An exception has occurred, use %tb to see the full traceback.\n",
      "\u001b[1;31mSystemExit\u001b[0m\u001b[1;31m:\u001b[0m 0\n"
     ]
    }
   ],
   "source": [
    "#gauss_seidel- com criterio de sassenfeld\n",
    "\n",
    "A = [[3, 4, 5], [4, 7, -3], [8, 3, 1]]\n",
    "B = [1, 2, 3]\n",
    "N = 100\n",
    "tol = 0.001\n",
    "ordem = np.shape(A)[0] \n",
    "if np.linalg.det(A) ==0:\n",
    "    sys.exit('DET =0, Matriz Singular ou possui Equações Linearmente Dependentes')    \n",
    "print('det A: ', np.linalg.det(A))\n",
    "\n",
    "#criterio de sassenfeld\n",
    "beta=np.zeros(ordem)\n",
    "for i in range(ordem):\n",
    "    beta[i]= 0\n",
    "    beta[i] = sum(A[i])-A[i][i]\n",
    "    j=0\n",
    "    while j < i:\n",
    "        beta[i] -= A[i][j]\n",
    "        beta[i] += A[i][j]*beta[j]\n",
    "        j += 1\n",
    "    beta[i] /= A[i][i]\n",
    "print('beta: ',beta)\n",
    "if max(beta)>1:\n",
    "    print('Nao atende o critério de sassenfeld')\n",
    "    sys.exit(0)\n",
    "\n",
    "# Vetor Inicial\n",
    "X=np.zeros(ordem)\n",
    "for i in range(ordem):\n",
    "    X[i]=B[i]/A[i,i]\n",
    "print('X0: ',X)\n",
    "\n",
    "it = 0 \n",
    "\n",
    "#iteracoes\n",
    "XX=np.zeros(ordem)\n",
    "while it<100:\n",
    "    it +=1\n",
    "    for i in range(ordem):\n",
    "        XX[i] = X[i]\n",
    "        X[i] = B[i]\n",
    "        for j in range(ordem):\n",
    "            if i != j:\n",
    "                X[i] -=A[i,j]*X[j]\n",
    "        X[i] /= A[i,i]\n",
    "    print('X'+str(it)+'= ',X)\n",
    "    erro = np.linalg.norm(X-XX,np.inf)\n",
    "    errorel = np.linalg.norm(X-XX,np.inf)/abs(max(X))\n",
    "    print('erro: ',erro)\n",
    "    print('errorel: ',errorel)\n",
    "    if erro<tol or errorel<tol:\n",
    "        print('Criterio de Parada Atingido')\n",
    "        sys.exit(0)"
   ]
  },
  {
   "cell_type": "markdown",
   "metadata": {},
   "source": [
    "Q2 - Assuma que em uma determinada regiao foi feito no mes de Abril um levantamento dos casos positivos para COVID-19, estes dados se encontram na tabela abaixo. Plote os pontos (dia, quantidade de casos) e ajuste pela funcao\n",
    "o(t) = a*exp^b*t\n",
    "em seguida faca uma estimativa para os dias em que nao foram registrados o numero de casos (acumulados) e extrapole fazendo uma previsao para 31o dia de registro."
   ]
  },
  {
   "cell_type": "code",
   "execution_count": 4,
   "metadata": {},
   "outputs": [
    {
     "name": "stdout",
     "output_type": "stream",
     "text": [
      "A= [[  27.  415.]\n",
      " [ 415. 8587.]]\n",
      "\n",
      "b= [ 274.57029115 4411.65257674]\n",
      "\n",
      "c0= 8.83703325502734\n",
      "c1= 0.08667564643151979\n",
      "\n",
      "Casos dia 12:  19479.95003404039\n",
      "\n",
      "Casos dia 18:  32767.579995428\n",
      "\n",
      "Casos dia 20:  38969.952664143275\n",
      "\n",
      "Casos dia 31:  101111.41376215869\n",
      "\n"
     ]
    },
    {
     "data": {
      "image/png": "[encoded data removed]",
      "text/plain": [
       "<Figure size 432x288 with 1 Axes>"
      ]
     },
     "metadata": {
      "needs_background": "light"
     },
     "output_type": "display_data"
    }
   ],
   "source": [
    "X=np.array([1,2,3,4,5,6,7,8,9,10,11,13,14,15,16,17,19,21,22,23,24,25,26,27,28,29,30])\n",
    "Casos=np.array([5868,6932,8076,10361,11281,11298,12240,14072,16238,19943,20727,22318,23830,25758,30891,30961,39144,43079,46195,\n",
    "            50036,54043,58509,63196,67410,73235,79685,87187])\n",
    "Y=np.log(Casos) # convertendo o nº de casos para ln de Casos\n",
    "pontos = len(X)\n",
    "grau = 1 # grau de convergência\n",
    "H = np.zeros(((2**grau)+1,pontos))\n",
    "# Vetor H /p calculo das somatórias\n",
    "for i in range(len(H)):\n",
    "    for j in range(len(H[0])):\n",
    "        H[i][j]=pow(X[j],i)\n",
    "\n",
    "#vetores X´s x Y\n",
    "XY = np.zeros((grau,pontos))\n",
    "for i in range(len(XY)):\n",
    "    for j in range(len(XY[0])):\n",
    "        XY[i][j]=H[i+1][j]*Y[j]\n",
    "# Sistema Ac=b\n",
    "A=np.zeros((grau+1,grau+1))\n",
    "b=np.zeros(grau+1)\n",
    "for i in range(len(A)):\n",
    "    for j in range(len(A)):\n",
    "        A[i][j]=H[i].dot(H[j])\n",
    "        b[i]=H[i].dot(Y)\n",
    "print('A=',A)\n",
    "print()\n",
    "print('b=',b)\n",
    "print()\n",
    "\n",
    "\n",
    "#Resolvendo o sistema\n",
    "c = np.linalg.solve(A,b)\n",
    "for i in range(len(c)):\n",
    "    print('c'+str(i)+'=',c[i])\n",
    "print()   \n",
    "# Encontrando os valores para os dias 12/18/20/31\n",
    "y12 = c[0] + c[1]*12\n",
    "Caso12 = np.exp(y12)\n",
    "print('Casos dia 12: ', Caso12)\n",
    "print()\n",
    "y18 = c[0] + c[1]*18\n",
    "Caso18 = np.exp(y18)\n",
    "print('Casos dia 18: ', Caso18)\n",
    "print()\n",
    "y20 = c[0] + c[1]*20\n",
    "Caso20 = np.exp(y20)\n",
    "print('Casos dia 20: ', Caso20)\n",
    "print()\n",
    "y31 = c[0] + c[1]*31\n",
    "Caso31 = np.exp(y31)\n",
    "print('Casos dia 31: ', Caso31)\n",
    "print()\n",
    "CasosF = [Caso12, Caso18, Caso20, Caso31]\n",
    "XF = [12,18,20,31]\n",
    "#Printando o Gráfico \n",
    "plt.plot(X,Casos,'ob') #dados fornecidos (bolinhas azuis)\n",
    "plt.plot(XF,CasosF,'or') # dados encontrados(bolinhas vermelhas)\n",
    "plt.plot()\n",
    "plt.xlabel(\"Dias\")\n",
    "plt.ylabel(\"Casos\")\n",
    "plt.show()"
   ]
  },
  {
   "cell_type": "markdown",
   "metadata": {},
   "source": [
    "Q3 - Ao estudar calculo de uma variavel, nos deparamos com integrais que possuem primitivas\n",
    "porem tais primitivas nao podem ser expressas como opreacoes entre funcoes elementares,\n",
    " ́e o caso da funcao f(x) = exp(−x^2)\n",
    "Utilizando a regra dos trapezios, calcule com 9,17,41,401 pontos (equidistantes no intervalo)."
   ]
  },
  {
   "cell_type": "code",
   "execution_count": 5,
   "metadata": {
    "scrolled": false
   },
   "outputs": [
    {
     "name": "stdout",
     "output_type": "stream",
     "text": [
      "h:  0.4444444444444444\n",
      "numero de passos:  9\n",
      "vetor pontos de x\n",
      "[-2, -1.5555555555555556, -1.1111111111111112, -0.6666666666666667, -0.22222222222222232, 0.2222222222222221, 0.6666666666666665, 1.111111111111111, 1.5555555555555554, 1.9999999999999998]\n",
      "vetor pontos de y\n",
      "[0.018315638888734054, 0.08894357612514903, 0.29096045886430955, 0.6411803884299541, 0.9518167844230891, 0.9518167844230893, 0.6411803884299542, 0.29096045886430966, 0.0889435761251491, 0.018315638888734068]\n",
      "\n",
      "2*fx1+...+fn-1 =  7.928236109147476\n",
      "\n",
      "valor da integral:  1.7699705304277653\n"
     ]
    },
    {
     "data": {
      "text/plain": [
       "[<matplotlib.lines.Line2D at 0x19f8a5589d0>]"
      ]
     },
     "execution_count": 5,
     "metadata": {},
     "output_type": "execute_result"
    },
    {
     "data": {
      "image/png": "[encoded data removed]",
      "text/plain": [
       "<Figure size 432x288 with 1 Axes>"
      ]
     },
     "metadata": {
      "needs_background": "light"
     },
     "output_type": "display_data"
    }
   ],
   "source": [
    "#regra do Trapézio repetida para m = 9\n",
    "var('x')\n",
    "f =str(e**(-x**2))\n",
    "a = -2\n",
    "b = 2\n",
    "x=a\n",
    "fa = eval(f)\n",
    "x=b\n",
    "fb = eval(f)\n",
    "m = 9\n",
    "h = (b-a)/m\n",
    "print('h: ',h)\n",
    "print('numero de passos: ',m)\n",
    "\n",
    "\n",
    "Vx=[a]\n",
    "Vy=[fa]\n",
    "x=a+h\n",
    "\n",
    "# Calculo da Integral para o intervalo com o passo h\n",
    "integral = 0\n",
    "while x <= b:\n",
    "    y=eval(f)\n",
    "    Vx.append(x)\n",
    "    Vy.append(y)\n",
    "    integral += 2*eval(f)\n",
    "    x += h\n",
    "print('vetor pontos de x')\n",
    "print(Vx)\n",
    "print('vetor pontos de y')\n",
    "print(Vy)\n",
    "print()\n",
    "print('2*fx1+...+fn-1 = ', integral)\n",
    "integral += fa\n",
    "integral += fb\n",
    "integral *= (h/2)\n",
    "print()\n",
    "print('valor da integral: ', integral)\n",
    "plt.plot(Vx,Vy,'b--')"
   ]
  },
  {
   "cell_type": "code",
   "execution_count": 6,
   "metadata": {
    "scrolled": false
   },
   "outputs": [
    {
     "name": "stdout",
     "output_type": "stream",
     "text": [
      "h:  0.23529411764705882\n",
      "numero de passos:  17\n",
      "vetor pontos de x\n",
      "[-2, -1.7647058823529411, -1.5294117647058822, -1.2941176470588234, -1.0588235294117645, -0.8235294117647056, -0.5882352941176467, -0.3529411764705879, -0.1176470588235291, 0.11764705882352972, 0.35294117647058854, 0.5882352941176474, 0.8235294117647063, 1.0588235294117652, 1.294117647058824, 1.529411764705883, 1.7647058823529418, 2]\n",
      "vetor pontos de y\n",
      "[0.018315638888734054, 0.044414608152584904, 0.09641433876793135, 0.1873567951790878, 0.3259187158997793, 0.5075293729325068, 0.707497798418417, 0.8828786879572208, 0.9862545134574356, 0.9862545134574355, 0.8828786879572205, 0.7074977984184164, 0.5075293729325063, 0.3259187158997789, 0.18735679517908752, 0.09641433876793117, 0.04441460815258481, 0.018315638888734054]\n",
      "\n",
      "\n",
      "valor da integral:  1.7634930118632137\n"
     ]
    },
    {
     "data": {
      "text/plain": [
       "[<matplotlib.lines.Line2D at 0x19f8a5d5af0>]"
      ]
     },
     "execution_count": 6,
     "metadata": {},
     "output_type": "execute_result"
    },
    {
     "data": {
      "image/png": "[encoded data removed]",
      "text/plain": [
       "<Figure size 432x288 with 1 Axes>"
      ]
     },
     "metadata": {
      "needs_background": "light"
     },
     "output_type": "display_data"
    }
   ],
   "source": [
    "#regra do Trapézio repetida para m = 17\n",
    "var('x')\n",
    "f =str(e**(-x**2))\n",
    "a = -2\n",
    "b = 2\n",
    "x=a\n",
    "fa = eval(f)\n",
    "x=b\n",
    "fb = eval(f)\n",
    "m = 17\n",
    "h = (b-a)/m\n",
    "print('h: ',h)\n",
    "print('numero de passos: ',m)\n",
    "\n",
    "\n",
    "Vx=[a]\n",
    "Vy=[fa]\n",
    "x=a+h\n",
    "\n",
    "# Calculo da Integral para o intervalo com o passo h\n",
    "integral = 0\n",
    "while x < b:\n",
    "    y=eval(f)\n",
    "    Vx.append(x)\n",
    "    Vy.append(y)\n",
    "    integral += 2*eval(f)\n",
    "    x += h\n",
    "Vx.append(b)\n",
    "Vy.append(fb)\n",
    "print('vetor pontos de x')\n",
    "print(Vx)\n",
    "print('vetor pontos de y')\n",
    "print(Vy)\n",
    "print()\n",
    "integral += fa\n",
    "integral += fb\n",
    "integral *= (h/2)\n",
    "print()\n",
    "print('valor da integral: ', integral)\n",
    "plt.plot(Vx,Vy,'b--')"
   ]
  },
  {
   "cell_type": "code",
   "execution_count": 7,
   "metadata": {},
   "outputs": [
    {
     "name": "stdout",
     "output_type": "stream",
     "text": [
      "h:  0.0975609756097561\n",
      "numero de passos:  41\n",
      "\n",
      "valor da integral:  1.7640467453163697\n"
     ]
    },
    {
     "data": {
      "text/plain": [
       "[<matplotlib.lines.Line2D at 0x19f8a62cd90>]"
      ]
     },
     "execution_count": 7,
     "metadata": {},
     "output_type": "execute_result"
    },
    {
     "data": {
      "image/png": "[encoded data removed]",
      "text/plain": [
       "<Figure size 432x288 with 1 Axes>"
      ]
     },
     "metadata": {
      "needs_background": "light"
     },
     "output_type": "display_data"
    }
   ],
   "source": [
    "#regra do Trapézio repetida para m = 41\n",
    "var('x')\n",
    "f =str(e**(-x**2))\n",
    "a = -2\n",
    "b = 2\n",
    "x=a\n",
    "fa = eval(f)\n",
    "x=b\n",
    "fb = eval(f)\n",
    "m = 41\n",
    "h = (b-a)/m\n",
    "print('h: ',h)\n",
    "print('numero de passos: ',m)\n",
    "\n",
    "\n",
    "Vx=[a]\n",
    "Vy=[fa]\n",
    "x=a+h\n",
    "\n",
    "# Calculo da Integral para o intervalo com o passo h\n",
    "integral = 0\n",
    "while x < b:\n",
    "    y=eval(f)\n",
    "    Vx.append(x)\n",
    "    Vy.append(y)\n",
    "    integral += 2*eval(f)\n",
    "    x += h\n",
    "Vx.append(b)\n",
    "Vy.append(fb)\n",
    "integral += fa\n",
    "integral += fb\n",
    "integral *= (h/2)\n",
    "print()\n",
    "print('valor da integral: ', integral)\n",
    "plt.plot(Vx,Vy,'b--')"
   ]
  },
  {
   "cell_type": "code",
   "execution_count": 8,
   "metadata": {
    "scrolled": false
   },
   "outputs": [
    {
     "name": "stdout",
     "output_type": "stream",
     "text": [
      "h:  0.00997506234413965\n",
      "numero de passos:  401\n",
      "\n",
      "valor da integral:  1.7641615665847887\n"
     ]
    },
    {
     "data": {
      "text/plain": [
       "[<matplotlib.lines.Line2D at 0x19f8b661460>]"
      ]
     },
     "execution_count": 8,
     "metadata": {},
     "output_type": "execute_result"
    },
    {
     "data": {
      "image/png": "[encoded data removed]",
      "text/plain": [
       "<Figure size 432x288 with 1 Axes>"
      ]
     },
     "metadata": {
      "needs_background": "light"
     },
     "output_type": "display_data"
    }
   ],
   "source": [
    "#regra do Trapézio repetida para m = 401\n",
    "var('x')\n",
    "f =str(e**(-x**2))\n",
    "a = -2\n",
    "b = 2\n",
    "x=a\n",
    "fa = eval(f)\n",
    "x=b\n",
    "fb = eval(f)\n",
    "m = 401\n",
    "h = (b-a)/m\n",
    "print('h: ',h)\n",
    "print('numero de passos: ',m)\n",
    "\n",
    "\n",
    "Vx=[a]\n",
    "Vy=[fa]\n",
    "x=a+h\n",
    "\n",
    "# Calculo da Integral para o intervalo com o passo h\n",
    "integral = 0\n",
    "while x < b:\n",
    "    y=eval(f)\n",
    "    Vx.append(x)\n",
    "    Vy.append(y)\n",
    "    integral += 2*eval(f)\n",
    "    x += h\n",
    "Vx.append(b)\n",
    "Vy.append(fb)\n",
    "integral += fa\n",
    "integral += fb\n",
    "integral *= (h/2)\n",
    "print()\n",
    "print('valor da integral: ', integral)\n",
    "plt.plot(Vx,Vy,'b--')"
   ]
  },
  {
   "cell_type": "markdown",
   "metadata": {},
   "source": [
    "Q4 - Uma das pragas que atacam a cana de acucar  ́e a broca (Diatraea sacharalis), esta vive dentro do colmo da cana, sendo difıcil a acao de agentes quımicos. Uma estrategia de combate eficaz  ́e a insercao de outros insetos predadores da broca no canavial. No Brasil, uma das especies utilizadas  ́e a vespa indiana (Apanteles flavipes).\n",
    "A broca deposita seus ovos na cana, que eclodem em larvas apos 4 a 9 dias. As larvas ficam na fase de crisalida por mais 9 a 14 dias. Metaforsiando-se em mariposas completando seu ciclo de vida com duracao de 53 a 63 dias. A vespa interrompe este ciclo quando pica a lagarta da broca depositando seus ovos. Destes eclodem larvas da vespa terminando o ciclo da broca, caracterizando a competicao.\n",
    "O modelo de Lotka-Volterra para a dinamica de populacoes do tipo presa-predador"
   ]
  },
  {
   "cell_type": "markdown",
   "metadata": {},
   "source": [
    "A - Implemente e apresente algoritmos descritivos (desde a definicao das condicoes iniciais ate a solucao do sistema de equacoes, quando necessario) dos passos para a implementacao de cada um dos seguintes metodos, para a resolucao do sistema de\n",
    "EDOs do modelo acima:\n",
    "– Euler Implıcito;\n",
    "– Runge-Kutta de quarta ordem."
   ]
  },
  {
   "cell_type": "markdown",
   "metadata": {},
   "source": [
    "B - Defina condicoes iniciais e valores para os coeficientes do modelo e apresente simulacoes obtidas com os metodos do item 2, apresentando a variacao das populacoes com o tempo e o espaco de fase u1 × u2, para diferentes nıveis de refinamento."
   ]
  },
  {
   "cell_type": "markdown",
   "metadata": {},
   "source": [
    "C - Compare e faca uma analise dos resultados obtidos."
   ]
  },
  {
   "cell_type": "code",
   "execution_count": 9,
   "metadata": {},
   "outputs": [
    {
     "data": {
      "text/plain": [
       "[<matplotlib.lines.Line2D at 0x19f8b6b7e50>]"
      ]
     },
     "execution_count": 9,
     "metadata": {},
     "output_type": "execute_result"
    },
    {
     "data": {
      "image/png": "[encoded data removed]",
      "text/plain": [
       "<Figure size 432x288 with 1 Axes>"
      ]
     },
     "metadata": {
      "needs_background": "light"
     },
     "output_type": "display_data"
    }
   ],
   "source": [
    "# Modelo com Euler Implicito\n",
    "# Parametros dos modelo\n",
    "\n",
    "a = 0.2 #c1 tx  de crescimento da presa 63/365\n",
    "b = 0.1 #d1 tx de Predação (uma vespa para cada larva)\n",
    "c = 0.1 #d2 tx de Decaimento (a vespa não apresenta predadoresporem não se reproduz sem a larva)\n",
    "e = 0.1 #c2 tx conversão presa em predador( a presa volta a se reposduzir logo ao fim do ciclo de vida da vespa)\n",
    "dt = 1 #(variação diaria)\n",
    "max_time = 63 #(ciclo de vida da vespa)\n",
    "def f(x,y):\n",
    "    return a*x - b*x*y\n",
    "def g(x,y):\n",
    "    return -c*y + e*x*y\n",
    "# tempo inicial e população\n",
    "t = 0 \n",
    "x = 1.0 # u1 População x1000\n",
    "y = 0.1 # u2 População x1000\n",
    "\n",
    "# lista para armazenamento das taxas de crescimento em função do tempo\n",
    "t_list = []; x_list = []; y_list = []\n",
    "t_list.append(t); x_list.append(x); y_list.append(y)\n",
    "\n",
    "while t < max_time:\n",
    "    # Calculode valores para x , y e t\n",
    "    t = t + dt\n",
    "    x = x + f(x,y)*dt\n",
    "    y = y + g(x,y)*dt\n",
    "\n",
    "    \n",
    "    t_list.append(t)\n",
    "    x_list.append(x)\n",
    "    y_list.append(y)\n",
    "\n",
    "# Plot the results    \n",
    "plt.plot(t_list, x_list, 'r')\n",
    "plt.plot(t_list, y_list, 'g')"
   ]
  },
  {
   "cell_type": "code",
   "execution_count": 10,
   "metadata": {},
   "outputs": [
    {
     "data": {
      "text/plain": [
       "[<matplotlib.lines.Line2D at 0x19f8b729760>]"
      ]
     },
     "execution_count": 10,
     "metadata": {},
     "output_type": "execute_result"
    },
    {
     "data": {
      "image/png": "[encoded data removed]",
      "text/plain": [
       "<Figure size 432x288 with 1 Axes>"
      ]
     },
     "metadata": {
      "needs_background": "light"
     },
     "output_type": "display_data"
    }
   ],
   "source": [
    "# Modelo com Runge-kutta\n",
    "# Parametros dos modelo\n",
    "\n",
    "a = 0.2 #c1 tx  de crescimento da presa 63/365\n",
    "b = 0.1 #d1 tx de Predação (uma vespa para cada larva)\n",
    "c = 0.1 #d2 tx de Decaimento (a vespa não apresenta predadoresporem não se reproduz sem a larva)\n",
    "e = 0.1 #c2 tx conversão presa em predador( a presa volta a se reposduzir logo ao fim do ciclo de vida da vespa)\n",
    "dt = 1 #(variação diaria)\n",
    "max_time = 63 #(ciclo de vida da vespa)\n",
    "def f(x,y):\n",
    "    return a*x - b*x*y\n",
    "def g(x,y):\n",
    "    return -c*y + e*x*y\n",
    "# tempo inicial e população\n",
    "t = 0 \n",
    "x = 1.0 # u1 População x1000\n",
    "y = 0.1 # u2 População x1000\n",
    "\n",
    "# lista para armazenamento das taxas de crescimento em função do tempo\n",
    "t_list = []; x_list = []; y_list = []\n",
    "t_list.append(t); x_list.append(x); y_list.append(y)\n",
    "\n",
    "while t < max_time:\n",
    "    # Calculode valores para x , y e t\n",
    "    t = t + dt\n",
    "    k1 = f(x,y)\n",
    "    k2 = f(x+dt/2, y + 0.5*dt*k1)\n",
    "    k3 = f(x+dt/2, y + 0.5*dt*k2)\n",
    "    k4 = f(x+dt/2, y + 0.5*dt*k3)\n",
    "    x = x + (dt/6)*(k1 + 2*k2 +2*k3 +k4)\n",
    "    l1 = g(x,y)\n",
    "    l2 = g(x+dt/2, y + 0.5*dt*l1)\n",
    "    l3 = g(x+dt/2, y + 0.5*dt*l2)\n",
    "    l4 = g(x+dt/2, y + 0.5*dt*l3)\n",
    "    y = y + (dt/6)*(l1 + 2*l2 +2*l3 +l4)\n",
    "\n",
    "    \n",
    "    t_list.append(t)\n",
    "    x_list.append(x)\n",
    "    y_list.append(y)\n",
    "\n",
    "# Plot the results    \n",
    "plt.plot(t_list, x_list, 'r')\n",
    "plt.plot(t_list, y_list, 'g')"
   ]
  },
  {
   "cell_type": "markdown",
   "metadata": {},
   "source": [
    "Análisando os métodos observa-se uma aproximação grande das duas aplicações. Com uma diferença no aumento populacional do predador no método de runge-kutta que é mais correto já que está ainda terra um crescimento mesmo após a diminuição da população da broca, devido a taxa de predação. "
   ]
  }
 ],
 "metadata": {
  "kernelspec": {
   "display_name": "Python 3",
   "language": "python",
   "name": "python3"
  },
  "language_info": {
   "codemirror_mode": {
    "name": "ipython",
    "version": 3
   },
   "file_extension": ".py",
   "mimetype": "text/x-python",
   "name": "python",
   "nbconvert_exporter": "python",
   "pygments_lexer": "ipython3",
   "version": "3.8.3"
  }
 },
 "nbformat": 4,
 "nbformat_minor": 4
}
