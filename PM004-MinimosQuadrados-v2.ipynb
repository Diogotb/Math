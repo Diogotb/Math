{
 "cells": [
  {
   "cell_type": "code",
   "execution_count": 1,
   "metadata": {},
   "outputs": [],
   "source": [
    "import numpy as np\n",
    "from numpy import linalg\n",
    "import matplotlib.pyplot as plt"
   ]
  },
  {
   "cell_type": "code",
   "execution_count": 8,
   "metadata": {
    "scrolled": false
   },
   "outputs": [
    {
     "name": "stdout",
     "output_type": "stream",
     "text": [
      "Quantidade pontos usados no ajuste: 8\n",
      "Grau de ajuste: 1\n",
      "\n",
      "x0=1\n",
      "y0=0.5\n",
      "x1=2\n",
      "y1=0.6\n",
      "x2=3\n",
      "y2=0.9\n",
      "x3=4\n",
      "y3=0.8\n",
      "x4=5\n",
      "y4=1.2\n",
      "x5=6\n",
      "y5=1.5\n",
      "x6=7\n",
      "y6=1.7\n",
      "x7=8\n",
      "y7=2\n",
      "[[ 1.  1.  1.  1.  1.  1.  1.  1.]\n",
      " [ 1.  2.  3.  4.  5.  6.  7.  8.]\n",
      " [ 1.  4.  9. 16. 25. 36. 49. 64.]]\n",
      "[[ 0.5  1.2  2.7  3.2  6.   9.  11.9 16. ]]\n",
      "A= [[  8.  36.]\n",
      " [ 36. 204.]]\n",
      "\n",
      "b= [ 9.2 50.5]\n",
      "\n",
      "det A:  336.0\n",
      "c0= 0.17499999999999966\n",
      "c1= 0.21666666666666673\n",
      "Valores Preditos\n",
      "[0.39166667 0.60833333 0.825      1.04166667 1.25833333 1.475\n",
      " 1.69166667 1.90833333]\n",
      "Resíduo\n",
      "[ 0.10833333 -0.00833333  0.075      -0.24166667 -0.05833333  0.025\n",
      "  0.00833333  0.09166667]\n",
      "Sresid= 0.6166666666666669\n",
      "SQresid= 0.08833333333333332\n",
      "SQtotal= 2.0599999999999996\n",
      "COF R2= 0.9571197411003236\n"
     ]
    },
    {
     "data": {
      "image/png": "[encoded data removed]",
      "text/plain": [
       "<Figure size 432x288 with 1 Axes>"
      ]
     },
     "metadata": {
      "needs_background": "light"
     },
     "output_type": "display_data"
    }
   ],
   "source": [
    "pontos = int(input('Quantidade pontos usados no ajuste: ')) # quantidade de pontos para o ajuste\n",
    "grau = int(input('Grau de ajuste: ')) # define o grau do plinômio\n",
    "print()\n",
    "    \n",
    "#Vetores X e Y\n",
    "X, Y =np.zeros(pontos), np.zeros(pontos)\n",
    "for i in range(pontos):\n",
    "    X[i]=float(input('x'+str(i)+'='))\n",
    "    Y[i]=float(input('y'+str(i)+'='))\n",
    "        \n",
    "# Vetores X´s\n",
    "H = np.zeros(((2**grau)+1,pontos))\n",
    "for i in range(len(H)):\n",
    "    for j in range(len(H[0])):\n",
    "        H[i][j]=pow(X[j],i)\n",
    "print(H)\n",
    "\n",
    "#vetores X´s x Y\n",
    "XY = np.zeros((grau,pontos))\n",
    "for i in range(len(XY)):\n",
    "    for j in range(len(XY[0])):\n",
    "        XY[i][j]=H[i+1][j]*Y[j]\n",
    "print(XY)\n",
    "# Sistema Ac=b\n",
    "A=np.zeros((grau+1,grau+1))\n",
    "b=np.zeros(grau+1)\n",
    "for i in range(len(A)):\n",
    "    for j in range(len(A)):\n",
    "        A[i][j]=H[i].dot(H[j])\n",
    "        b[i]=H[i].dot(Y)\n",
    "print('A=',A)\n",
    "print()\n",
    "print('b=',b)\n",
    "print()\n",
    "print('det A: ', np.linalg.det(A))\n",
    "#Resolvendo o sistema\n",
    "c = np.linalg.solve(A,b)\n",
    "for i in range(len(c)):\n",
    "    print('c'+str(i)+'=',c[i])\n",
    "    \n",
    "# Encontrando os valores Preditos\n",
    "yp =np.zeros(pontos)\n",
    "\n",
    "for i in range(len(c)):\n",
    "    yp+= c[i]*X**i\n",
    "\n",
    "# Encontrando Erro\n",
    "yresid = Y - yp # resíduo = valor real - valor predito\n",
    "Sresid = sum(abs(yresid)) # somatória dos módulos do resíduos\n",
    "SQresid = sum(pow(yresid,2)) # soma dos quadrados dos resíduos \n",
    "SQtotal = len(Y) * np.var(Y) # número de elementos do vetor y vezes a variância de y\n",
    "R2 = 1 - SQresid/SQtotal # coeficiente de determinação\n",
    "print('Valores Preditos')\n",
    "print(yp)\n",
    "print('Resíduo')\n",
    "print(yresid)\n",
    "print('Sresid=',Sresid)\n",
    "print('SQresid=',SQresid)\n",
    "print('SQtotal=',SQtotal)\n",
    "print('COF R2=',R2)\n",
    "#Printando o Gráfico\n",
    "plt.plot(X,Y,'o')\n",
    "plt.plot(X,yp,'g--')\n",
    "plt.xlabel(\"x\")\n",
    "plt.ylabel(\"y\")\n",
    "plt.show()\n",
    "    \n",
    "    "
   ]
  },
  {
   "cell_type": "code",
   "execution_count": null,
   "metadata": {},
   "outputs": [],
   "source": []
  }
 ],
 "metadata": {
  "kernelspec": {
   "display_name": "Python 3",
   "language": "python",
   "name": "python3"
  },
  "language_info": {
   "codemirror_mode": {
    "name": "ipython",
    "version": 3
   },
   "file_extension": ".py",
   "mimetype": "text/x-python",
   "name": "python",
   "nbconvert_exporter": "python",
   "pygments_lexer": "ipython3",
   "version": "3.8.3"
  }
 },
 "nbformat": 4,
 "nbformat_minor": 4
}
