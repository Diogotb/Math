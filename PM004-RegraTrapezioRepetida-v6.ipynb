{
 "cells": [
  {
   "cell_type": "code",
   "execution_count": 4,
   "metadata": {},
   "outputs": [],
   "source": [
    "import numpy as np\n",
    "from numpy import linalg\n",
    "import matplotlib.pyplot as plt\n",
    "import math\n",
    "import sympy\n",
    "from sympy import *\n",
    "x, y, z = symbols('x y z')"
   ]
  },
  {
   "cell_type": "code",
   "execution_count": 5,
   "metadata": {
    "scrolled": false
   },
   "outputs": [
    {
     "name": "stdout",
     "output_type": "stream",
     "text": [
      "digite f(x)= 1/(1+x)\n",
      "Limite inferior: 0\n",
      "Limite Superior: 0.6\n",
      "Tolerancia do erro: 0.001\n",
      "f\"x:  2/(x + 1)**3\n",
      "f\"a:  2.0\n",
      "f\"b:  0.4882812499999999\n",
      "\n",
      "h:  0.1\n",
      "numero de passos p/ tolerancia:  5.999999999999999\n",
      "vetor pontos de x\n",
      "[0.0, 0.1, 0.2, 0.30000000000000004, 0.4, 0.5, 0.6]\n",
      "vetor pontos de y\n",
      "[1.0, 0.9090909090909091, 0.8333333333333334, 0.7692307692307692, 0.7142857142857143, 0.6666666666666666, 0.625]\n",
      "\n",
      "2*fx1+...+fn-1 =  7.785214785214785\n",
      "\n",
      "valor da integral:  0.4705107392607392\n",
      "erro:  0.0010000000000000002\n"
     ]
    },
    {
     "data": {
      "text/plain": [
       "[<matplotlib.lines.Line2D at 0x62d8ab9dc0>]"
      ]
     },
     "execution_count": 5,
     "metadata": {},
     "output_type": "execute_result"
    },
    {
     "data": {
      "image/png": "[encoded data removed]",
      "text/plain": [
       "<Figure size 432x288 with 1 Axes>"
      ]
     },
     "metadata": {
      "needs_background": "light"
     },
     "output_type": "display_data"
    }
   ],
   "source": [
    "#regra do Trapézio repetida com uso de tolerancia\n",
    "f = input('digite f(x)= ')\n",
    "a = float(input('Limite inferior: '))\n",
    "b = float(input('Limite Superior: '))\n",
    "tol = float(input('Tolerancia do erro: '))\n",
    "d2f = str(diff(diff(f)))\n",
    "print('f\"x: ', d2f)\n",
    "x=a\n",
    "fa = eval(f)\n",
    "d2fa = abs(eval(d2f))\n",
    "print('f\"a: ', d2fa)\n",
    "x=b\n",
    "fb = eval(f)\n",
    "d2fb = abs(eval(d2f))\n",
    "print('f\"b: ', d2fb)\n",
    "print()\n",
    "\n",
    "# calculo de H a partir da tolerância\n",
    "if d2fa>d2fb:\n",
    "    h = ((12*tol)/(d2fa*(b-a)))**0.5\n",
    "else:\n",
    "    h = ((12*tol)/(d2fb*(b-a)))**0.5 \n",
    "\n",
    "m = (b-a)/h\n",
    "print('h: ',h)\n",
    "print('numero de passos p/ tolerancia: ',m)\n",
    "\n",
    "\n",
    "Vx=[a]\n",
    "Vy=[fa]\n",
    "Vdx=[d2fa]\n",
    "x=a+h\n",
    "\n",
    "# Calculo da Integral para o intervalo com o passo h\n",
    "integral = 0\n",
    "while x < b:\n",
    "    y=eval(f)\n",
    "    d2fx = eval(d2f)\n",
    "    Vx.append(x)\n",
    "    Vy.append(y)\n",
    "    Vdx.append(d2fx)\n",
    "    integral += 2*eval(f)\n",
    "    x += h\n",
    "Vx.append(b)\n",
    "Vy.append(fb)\n",
    "Vdx.append(d2fb)\n",
    "print('vetor pontos de x')\n",
    "print(Vx)\n",
    "print('vetor pontos de y')\n",
    "print(Vy)\n",
    "print()\n",
    "print('2*fx1+...+fn-1 = ', integral)\n",
    "integral += fa\n",
    "integral += fb\n",
    "integral *= (h/2)\n",
    "print()\n",
    "print('valor da integral: ', integral)\n",
    "erro = (((b-a)*h**2)/12)*abs(max(Vdx))\n",
    "print('erro: ', erro)\n",
    "plt.plot(Vx,Vy,'b--')\n"
   ]
  },
  {
   "cell_type": "code",
   "execution_count": null,
   "metadata": {},
   "outputs": [],
   "source": []
  }
 ],
 "metadata": {
  "kernelspec": {
   "display_name": "Python 3",
   "language": "python",
   "name": "python3"
  },
  "language_info": {
   "codemirror_mode": {
    "name": "ipython",
    "version": 3
   },
   "file_extension": ".py",
   "mimetype": "text/x-python",
   "name": "python",
   "nbconvert_exporter": "python",
   "pygments_lexer": "ipython3",
   "version": "3.8.5"
  }
 },
 "nbformat": 4,
 "nbformat_minor": 4
}
