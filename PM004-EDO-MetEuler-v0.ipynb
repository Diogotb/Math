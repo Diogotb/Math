{
 "cells": [
  {
   "cell_type": "code",
   "execution_count": 1,
   "metadata": {},
   "outputs": [],
   "source": [
    "import numpy as np\n",
    "from numpy import linalg\n",
    "import matplotlib.pyplot as plt\n",
    "import math\n",
    "from math import e\n",
    "import sympy\n",
    "from sympy import *\n",
    "x, y, t = symbols('x y t')"
   ]
  },
  {
   "cell_type": "code",
   "execution_count": 5,
   "metadata": {},
   "outputs": [
    {
     "name": "stdout",
     "output_type": "stream",
     "text": [
      "digite f(x)= t*e**(3*t) -2*y\n",
      "Entre com a condição inicial t0: 0\n",
      "Entre com o Valor inicial y0: 0\n",
      "Entre com o tempo final tf: 0.1\n",
      "Entre com o tamanho do Passo: 0.025\n",
      "y(0.025000) = 0.000000\n",
      "y(0.050000) = 0.000674\n",
      "y(0.075000) = 0.002092\n",
      "y(0.100000) = 0.004336\n"
     ]
    }
   ],
   "source": [
    "#EDO métodos numéricos\n",
    "# Métodos de Euler\n",
    "# entrada de dados\n",
    "f = input('digite f(x)= ')\n",
    "t0= float(input('Entre com a condição inicial t0: '))\n",
    "y0= float(input('Entre com o Valor inicial y0: '))\n",
    "tf= float(input('Entre com o tempo final tf: '))\n",
    "h = float(input('Entre com o tamanho do Passo: '))\n",
    "\n",
    "# iterações\n",
    "t = t0\n",
    "y = y0\n",
    "while t < tf:\n",
    "    y = y0 + h*eval(f)\n",
    "    t += h\n",
    "    y0 = y\n",
    "    print('y(%f) = %f' %(t,y))"
   ]
  },
  {
   "cell_type": "code",
   "execution_count": null,
   "metadata": {},
   "outputs": [],
   "source": []
  }
 ],
 "metadata": {
  "kernelspec": {
   "display_name": "Python 3",
   "language": "python",
   "name": "python3"
  },
  "language_info": {
   "codemirror_mode": {
    "name": "ipython",
    "version": 3
   },
   "file_extension": ".py",
   "mimetype": "text/x-python",
   "name": "python",
   "nbconvert_exporter": "python",
   "pygments_lexer": "ipython3",
   "version": "3.8.3"
  }
 },
 "nbformat": 4,
 "nbformat_minor": 4
}
