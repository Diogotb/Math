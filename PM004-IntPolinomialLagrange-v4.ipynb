{
 "cells": [
  {
   "cell_type": "code",
   "execution_count": 2,
   "metadata": {},
   "outputs": [],
   "source": [
    "import numpy as np\n",
    "from numpy import linalg\n",
    "import matplotlib.pyplot as plt\n",
    "import math\n",
    "import sympy\n",
    "from sympy import *\n",
    "x, y, z = symbols('x y z')\n"
   ]
  },
  {
   "cell_type": "code",
   "execution_count": 3,
   "metadata": {
    "scrolled": false
   },
   "outputs": [
    {
     "name": "stdout",
     "output_type": "stream",
     "text": [
      "Quantidade pontos usados no ajuste: 4\n",
      "Ponto de interpolacao: 3.5\n",
      "x0=1\n",
      "y0=0\n",
      "x1=3\n",
      "y1=6\n",
      "x2=4\n",
      "y2=24\n",
      "x3=5\n",
      "y3=60\n",
      "coeficientes L para X\n",
      "[(1.25 - 0.25*x)*(1.33333333333333 - 0.333333333333333*x)*(1.5 - 0.5*x), (2.5 - 0.5*x)*(4.0 - 1.0*x)*(0.5*x - 0.5), (5.0 - 1.0*x)*(0.333333333333333*x - 0.333333333333333)*(1.0*x - 3.0), (0.25*x - 0.25)*(0.5*x - 1.5)*(1.0*x - 4.0)]\n",
      "\n",
      "p(x)= 6.0*(2.5 - 0.5*x)*(4.0 - 1.0*x)*(0.5*x - 0.5) + 24.0*(5.0 - 1.0*x)*(0.333333333333333*x - 0.333333333333333)*(1.0*x - 3.0) + 60.0*(0.25*x - 0.25)*(0.5*x - 1.5)*(1.0*x - 4.0)\n",
      "\n",
      "p(x)= 1.0*x**3 - 3.0*x**2 + 2.0*x\n",
      "\n",
      "coeficientes L para f 3.500000\n",
      "[-0.015625, 0.46875, 0.625, -0.078125]\n",
      "\n",
      "p(x)= 13.125\n"
     ]
    },
    {
     "data": {
      "image/png": "[encoded data removed]",
      "text/plain": [
       "<Figure size 432x288 with 1 Axes>"
      ]
     },
     "metadata": {
      "needs_background": "light"
     },
     "output_type": "display_data"
    }
   ],
   "source": [
    "pontos = int(input('Quantidade pontos usados no ajuste: ')) # quantidade de pontos para o ajuste\n",
    "n = float(input('Ponto de interpolacao: ')) # define o ponto da interpolação desejado\n",
    "#Vetores X e Y\n",
    "X, Y =np.zeros(pontos), np.zeros(pontos)\n",
    "for i in range(pontos):\n",
    "    X[i]=float(input('x'+str(i)+'='))\n",
    "    Y[i]=float(input('y'+str(i)+'='))\n",
    "\n",
    "# Elaboração do polinônio interpolador\n",
    "coefL =[]\n",
    "for i in range(pontos):\n",
    "    L=1\n",
    "    for j in range(len(X)):\n",
    "        if i!=j:\n",
    "            L *=(x-X[j])/(X[i]-X[j])\n",
    "    coefL.append(L)\n",
    "print('coeficientes L para X')\n",
    "print(coefL)\n",
    "print()\n",
    "fn=0\n",
    "for i in range(len(coefL)):\n",
    "    fn += Y[i]*coefL[i]\n",
    "print('p('+str(x)+')=',fn)\n",
    "print()\n",
    "y=sympy.expand(fn)\n",
    "print('p('+str(x)+')=',y)\n",
    "print()\n",
    "    \n",
    "# Calculo do F(n) \n",
    "coefLn =[]\n",
    "for i in range(pontos):\n",
    "    Ln=1\n",
    "    for j in range(len(X)):\n",
    "        if i!=j:\n",
    "            Ln *=(n-X[j])/(X[i]-X[j])\n",
    "    coefLn.append(Ln)\n",
    "print('coeficientes L para f %f'%n)\n",
    "print(coefLn)\n",
    "print()\n",
    "pn=0\n",
    "for i in range(len(coefLn)):\n",
    "    pn += Y[i]*coefLn[i]\n",
    "print('p('+str(x)+')=',pn)\n",
    "\n",
    "#Printando o Gráfico\n",
    "plt.plot(X,Y,'g--')\n",
    "plt.plot(n,pn,'bo')\n",
    "plt.xlabel(\"x\")\n",
    "plt.ylabel(\"y\")\n",
    "plt.show()\n",
    "    \n",
    "    \n"
   ]
  },
  {
   "cell_type": "code",
   "execution_count": null,
   "metadata": {},
   "outputs": [],
   "source": []
  }
 ],
 "metadata": {
  "kernelspec": {
   "display_name": "Python 3",
   "language": "python",
   "name": "python3"
  },
  "language_info": {
   "codemirror_mode": {
    "name": "ipython",
    "version": 3
   },
   "file_extension": ".py",
   "mimetype": "text/x-python",
   "name": "python",
   "nbconvert_exporter": "python",
   "pygments_lexer": "ipython3",
   "version": "3.8.3"
  }
 },
 "nbformat": 4,
 "nbformat_minor": 4
}
