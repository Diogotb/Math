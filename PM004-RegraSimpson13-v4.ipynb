{
 "cells": [
  {
   "cell_type": "code",
   "execution_count": 1,
   "metadata": {},
   "outputs": [],
   "source": [
    "import numpy as np\n",
    "from numpy import linalg\n",
    "import matplotlib.pyplot as plt\n",
    "import math\n",
    "from math import pi\n",
    "import sympy\n",
    "from sympy import *\n",
    "x, y, z = symbols('x y z')"
   ]
  },
  {
   "cell_type": "code",
   "execution_count": 9,
   "metadata": {
    "scrolled": false
   },
   "outputs": [
    {
     "name": "stdout",
     "output_type": "stream",
     "text": [
      "digite f(x)= cos(x)\n",
      "Limite inferior: 0\n",
      "Limite Superior: 1.5708\n",
      "Tolerancia do erro: 0.00001\n",
      "f\"\"(x):  cos(x)\n",
      "f\"\"a:  1\n",
      "f\"\"b:  -3.67320510334657e-6\n",
      "m:  8.53754467920430\n",
      "subintervalos:  10\n",
      "\n",
      "h:  0.157080000000000\n",
      "vetor pontos de x\n",
      "[0.0, 0.157080000000000, 0.314160000000000, 0.471240000000000, 0.628320000000000, 0.785400000000000, 0.942480000000000, 1.09956000000000, 1.25664000000000, 1.41372000000000, 1.5708]\n",
      "vetor pontos de y\n",
      "[1, 0.987688283133484, 0.951056289278337, 0.891006023907761, 0.809016130751759, 0.707105482511236, 0.587783469279834, 0.453988208743248, 0.309014199633094, 0.156431199855708, -3.67320510334657e-6]\n",
      "\n",
      "4*(fx1+fx3+...+fx inpar):  12.7848767926057\n",
      "2*(fx2+fx4+...+fx par):  5.31374017788605\n",
      "soma subintervalos:  18.0986169704918\n",
      "\n",
      "valor da integral:  1.00000339224593\n",
      "erro:  5.31290386871039e-6\n"
     ]
    },
    {
     "data": {
      "text/plain": [
       "[<matplotlib.lines.Line2D at 0x1af9b717100>]"
      ]
     },
     "execution_count": 9,
     "metadata": {},
     "output_type": "execute_result"
    },
    {
     "data": {
      "image/png": "[encoded data removed]",
      "text/plain": [
       "<Figure size 432x288 with 1 Axes>"
      ]
     },
     "metadata": {
      "needs_background": "light"
     },
     "output_type": "display_data"
    }
   ],
   "source": [
    "#regra de Simpson 1/3 com uso de tolerancia\n",
    "f = input('digite f(x)= ')\n",
    "a = float(input('Limite inferior: '))\n",
    "b = float(input('Limite Superior: '))\n",
    "tol = float(input('Tolerancia do erro: '))\n",
    "d4f = str(diff(diff(diff(diff(f)))))\n",
    "print('f\"\"(x): ', d4f)\n",
    "x=a\n",
    "fa = eval(f)\n",
    "d4fa = eval(d4f)\n",
    "print('f\"\"a: ',d4fa)\n",
    "x=b\n",
    "fb = eval(f)\n",
    "d4fb = eval(d4f)\n",
    "print('f\"\"b: ',d4fb)\n",
    "\n",
    "# calculo de H a partir da tolerância\n",
    "if d4fa>d4fb:\n",
    "    h = ((180*tol)/(d4fa*(b-a)))**0.25\n",
    "else:\n",
    "    h = ((180*tol)/(d4fa*(b-a)))**0.25\n",
    "    \n",
    "m = ((b-a)/h)\n",
    "print('m: ',m)\n",
    "m= math.ceil(m)\n",
    "if m % 2 != 0:  \n",
    "    m += 1\n",
    "print('subintervalos: ',m)\n",
    "print()\n",
    "h = (b-a)/m\n",
    "print('h: ',h)\n",
    "\n",
    "x=a+h\n",
    "Vx=[a]\n",
    "Vy=[fa]\n",
    "\n",
    "# Calculo da Integral para o intervalo com o passo h\n",
    "n = 1\n",
    "integral = 0\n",
    "f4 = 0\n",
    "f2 = 0\n",
    "while x < b:\n",
    "    y=eval(f)\n",
    "    Vx.append(x)\n",
    "    Vy.append(y)\n",
    "    if n%2 !=0:\n",
    "        f4 += 4*eval(f)\n",
    "    else:\n",
    "        f2 += 2*eval(f)\n",
    "    x += h\n",
    "    n += 1\n",
    "integral += f4\n",
    "integral += f2\n",
    "integral += fa\n",
    "integral += fb\n",
    "Vx.append(b)\n",
    "Vy.append(fb)    \n",
    "print('vetor pontos de x')\n",
    "print(Vx)\n",
    "print('vetor pontos de y')\n",
    "print(Vy)\n",
    "print()\n",
    "print('4*(fx1+fx3+...+fx inpar): ', f4)\n",
    "print('2*(fx2+fx4+...+fx par): ', f2)\n",
    "print('soma subintervalos: ', f2+f4)\n",
    "integral *= (h/3)\n",
    "print()\n",
    "print('valor da integral: ', integral)\n",
    "erro = (((b-a)*(h**4)/180)*abs(max(Vy)))\n",
    "print('erro: ', erro)\n",
    "plt.plot(Vx,Vy,'b--')"
   ]
  },
  {
   "cell_type": "code",
   "execution_count": null,
   "metadata": {},
   "outputs": [],
   "source": [
    "math.pi/2"
   ]
  },
  {
   "cell_type": "code",
   "execution_count": null,
   "metadata": {},
   "outputs": [],
   "source": []
  }
 ],
 "metadata": {
  "kernelspec": {
   "display_name": "Python 3",
   "language": "python",
   "name": "python3"
  },
  "language_info": {
   "codemirror_mode": {
    "name": "ipython",
    "version": 3
   },
   "file_extension": ".py",
   "mimetype": "text/x-python",
   "name": "python",
   "nbconvert_exporter": "python",
   "pygments_lexer": "ipython3",
   "version": "3.8.3"
  }
 },
 "nbformat": 4,
 "nbformat_minor": 4
}
